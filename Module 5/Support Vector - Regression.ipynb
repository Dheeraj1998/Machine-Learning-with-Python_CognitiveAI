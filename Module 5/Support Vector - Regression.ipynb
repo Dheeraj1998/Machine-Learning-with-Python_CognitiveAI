{
 "cells": [
  {
   "cell_type": "markdown",
   "metadata": {},
   "source": [
    "# BONUS: Support Vector Regression (SVR)"
   ]
  },
  {
   "cell_type": "markdown",
   "metadata": {},
   "source": [
    "### <b>Welcome to Lab 5c of Machine Learning 101 with Python.</b>\n",
    "<p><b>Machine Learning is a form of artificial intelligence (AI), where the system can \"learn\" without explicitly being coded</b></p>"
   ]
  },
  {
   "cell_type": "markdown",
   "metadata": {},
   "source": [
    "### Some Notebook Commands Reminders:\n",
    "<ul>\n",
    "    <li>Run a cell: CTRL + ENTER</li>\n",
    "    <li>Create a cell above a cell: a</li>\n",
    "    <li>Create a cell below a cell: b</li>\n",
    "    <li>Change a cell to Markdown: m</li>\n",
    "    \n",
    "    <li>Change a cell to code: y</li>\n",
    "</ul>\n",
    "\n",
    "<b> If you are interested in more keyboard shortcuts, go to Help -> Keyboard Shortcuts </b>"
   ]
  },
  {
   "cell_type": "markdown",
   "metadata": {},
   "source": [
    "# <u>BONUS: Support Vector Regression (SVR)</u>"
   ]
  },
  {
   "cell_type": "markdown",
   "metadata": {},
   "source": [
    "We will be looking at an Introduction to <b>Support Vector Regression</b> which is a type of <b>regression</b> from <b>SVM</b> (<b>Support Vector Machine</b>). We will take a look a few kernels and models!"
   ]
  },
  {
   "cell_type": "markdown",
   "metadata": {},
   "source": [
    "First we will need to import <b>SVR</b> from <b>sklearn.svm</b> (And <b>numpy as np</b>, <b>matplotlib.pyplot as plt</b>, and <b>%matplotlib inline</b> if you haven't already!)"
   ]
  },
  {
   "cell_type": "code",
   "execution_count": 1,
   "metadata": {},
   "outputs": [],
   "source": [
    "from sklearn.svm import SVR"
   ]
  },
  {
   "cell_type": "markdown",
   "metadata": {},
   "source": [
    "We will need to import SelectKBest from sklearn.feature_selection, chi2 from sklearn.feature_selection, numpy as np, and pandas."
   ]
  },
  {
   "cell_type": "code",
   "execution_count": 2,
   "metadata": {},
   "outputs": [],
   "source": [
    "import numpy as np "
   ]
  },
  {
   "cell_type": "markdown",
   "metadata": {},
   "source": [
    "Now we will set the <b>random seed</b> to ensure the same results with the <b>random.seed</b> function of np with parameter <b>5</b>."
   ]
  },
  {
   "cell_type": "code",
   "execution_count": 3,
   "metadata": {},
   "outputs": [],
   "source": [
    "np.random.seed(5)"
   ]
  },
  {
   "cell_type": "markdown",
   "metadata": {},
   "source": [
    "Now we will generate <b>30</b> different values using the <b>random.rand</b> function of np with parameters <b>30</b>, <b>1</b>. This will be multiplied by <b>10</b>, <b>sort it</b> using the <b>np.sort</b> function with <b>axis=0</b> and store it in <b>X</b>."
   ]
  },
  {
   "cell_type": "code",
   "execution_count": 4,
   "metadata": {},
   "outputs": [],
   "source": [
    "X = np.sort(10 * np.random.rand(30, 1), axis=0)"
   ]
  },
  {
   "cell_type": "markdown",
   "metadata": {},
   "source": [
    "Now we will take the <b>sin</b> of each using the <b>sin</b> function of np (<b>sinusoidal</b> function), and then use the <b>ravel</b> function to format it correctly. This will be stored as <b>y</b>."
   ]
  },
  {
   "cell_type": "code",
   "execution_count": 5,
   "metadata": {},
   "outputs": [],
   "source": [
    "y = np.sin(X).ravel()"
   ]
  },
  {
   "cell_type": "markdown",
   "metadata": {},
   "source": [
    "Now we will be looking at <b>3 different kernels</b> that <b>SVR</b> uses: <b>rbf</b>, <b>linear</b>, and <b>sigmoid</b>. First we will show you how to declare a <b>rbf kernel</b>, and we will see let finish up for <b>linear</b> and <b>sigmoid</b>! Here we define a variable called <b>svr_rbf</b> using the <b>SVR</b> declaration with parameters <b>kernel='rbf'</b> and <b>C=1e3</b>."
   ]
  },
  {
   "cell_type": "code",
   "execution_count": 6,
   "metadata": {},
   "outputs": [],
   "source": [
    "svr_rbf = SVR(kernel='rbf', C=1e3)"
   ]
  },
  {
   "cell_type": "markdown",
   "metadata": {},
   "source": [
    "Now you will do the same for <b>linear</b> and <b>sigmoid</b>. This time we will define the variables as <b>svr_linear</b> and <b>svr_sigmoid</b> respectively. The kernel is equal to <b>'linear'</b> and <b>'sigmoid'</b> respectively for each. Keep the <b>C=1e3</b> (1 * 10^3) which is the penalty parameter of the error term."
   ]
  },
  {
   "cell_type": "code",
   "execution_count": 7,
   "metadata": {},
   "outputs": [],
   "source": [
    "svr_linear = SVR(kernel='linear', C=1e3)\n",
    "svr_sigmoid = SVR(kernel='sigmoid', C=1e3)"
   ]
  },
  {
   "cell_type": "markdown",
   "metadata": {},
   "source": [
    "Now we will use the <b>fit</b> function of each of the <b>svr</b> variables and <b>fit</b> it with parameters <b>X</b>, <b>y</b>."
   ]
  },
  {
   "cell_type": "code",
   "execution_count": 8,
   "metadata": {},
   "outputs": [
    {
     "data": {
      "text/plain": [
       "SVR(C=1000.0, cache_size=200, coef0=0.0, degree=3, epsilon=0.1, gamma='auto',\n",
       "  kernel='sigmoid', max_iter=-1, shrinking=True, tol=0.001, verbose=False)"
      ]
     },
     "execution_count": 8,
     "metadata": {},
     "output_type": "execute_result"
    }
   ],
   "source": [
    "svr_rbf.fit(X,y)\n",
    "svr_linear.fit(X,y)\n",
    "svr_sigmoid.fit(X,y)"
   ]
  },
  {
   "cell_type": "markdown",
   "metadata": {},
   "source": [
    "Then we use the <b>predict</b> function of each <b>svr</b> variable with parameter <b>X</b> and store them as <b>y_pred_rbf</b>, <b>y_pred_linear</b>, <b>y_pred_sigmoid</b> respective to each of their names."
   ]
  },
  {
   "cell_type": "code",
   "execution_count": 9,
   "metadata": {},
   "outputs": [],
   "source": [
    "y_pred_rbf = svr_rbf.predict(X)\n",
    "y_pred_linear = svr_linear.predict(X)\n",
    "y_pred_sigmoid = svr_sigmoid.predict(X)"
   ]
  },
  {
   "cell_type": "markdown",
   "metadata": {},
   "source": [
    "But before plotting the graph we must import <b>matplotlib.pyplot</b> as <b>plt</b>, <b>Axes3D</b> from <b>mpl_toolkits.mplot3d</b>, and <b>decomposition</b> from <b>sklearn</b>. <i>(And numpy as np if you haven't already!)</i> Make sure you include the <b>%matplotlib inline</b> to have the plot show up in your notebook!"
   ]
  },
  {
   "cell_type": "code",
   "execution_count": 10,
   "metadata": {},
   "outputs": [],
   "source": [
    "import matplotlib.pyplot as plt\n",
    "from mpl_toolkits.mplot3d import Axes3D\n",
    "from sklearn import decomposition\n",
    "%matplotlib inline"
   ]
  },
  {
   "cell_type": "markdown",
   "metadata": {},
   "source": [
    "Now we will plot the data in <b>scatter</b> plot form, and each of the <b>respective models</b> on the <b>plot</b>."
   ]
  },
  {
   "cell_type": "code",
   "execution_count": 11,
   "metadata": {},
   "outputs": [
    {
     "data": {
      "text/plain": [
       "<matplotlib.legend.Legend at 0x10e612080>"
      ]
     },
     "execution_count": 11,
     "metadata": {},
     "output_type": "execute_result"
    },
    {
     "data": {
      "image/png": "[encoded data removed]",
      "text/plain": [
       "<Figure size 432x288 with 1 Axes>"
      ]
     },
     "metadata": {},
     "output_type": "display_data"
    }
   ],
   "source": [
    "plt.scatter(X, y, c='k', label='data')\n",
    "plt.plot(X, y_pred_rbf, c='g', label='RBF model')\n",
    "plt.plot(X, y_pred_linear, c='r', label='Linear model')\n",
    "plt.plot(X, y_pred_sigmoid, c='b', label='Sigmoid model')\n",
    "plt.legend(bbox_to_anchor=(1.05, 1), loc=2, borderaxespad=0.)"
   ]
  },
  {
   "cell_type": "markdown",
   "metadata": {},
   "source": [
    "As you can see, <b>rbf</b> result in the best fitting line. <b>RBF</b> short for <b>Radial basis function</b>. Depending on the situation, <b>different kernels</b> will provide more <b>accurate results</b> than <b>other</b>, such as the one shown. The question is: <b>When and where should I use each model to produce the best results?</b>"
   ]
  }
 ],
 "metadata": {
  "kernelspec": {
   "display_name": "Python 2",
   "language": "python",
   "name": "python2"
  },
  "language_info": {
   "codemirror_mode": {
    "name": "ipython",
    "version": 3
   },
   "file_extension": ".py",
   "mimetype": "text/x-python",
   "name": "python",
   "nbconvert_exporter": "python",
   "pygments_lexer": "ipython3",
   "version": "3.6.1"
  },
  "widgets": {
   "state": {},
   "version": "1.1.2"
  }
 },
 "nbformat": 4,
 "nbformat_minor": 1
}
