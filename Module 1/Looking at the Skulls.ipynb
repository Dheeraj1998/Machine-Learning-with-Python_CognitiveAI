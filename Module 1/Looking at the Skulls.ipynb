{
 "cells": [
  {
   "cell_type": "markdown",
   "metadata": {},
   "source": [
    "# Looking at the Skulls"
   ]
  },
  {
   "cell_type": "markdown",
   "metadata": {},
   "source": [
    "### <b>Welcome to Lab 1b of Machine Learning 101 with Python.</b>\n",
    "<p><b>Machine Learning is a subset of artificial intelligence (AI), where the system can \"learn\" without explicitly being coded</b></p>\n",
    "\n",
    "In this lab exercise, you will learn some basic functions for viewing and analysing data such as target, feature names, etc. Also, you will get a basic understanding of how to use data to fit (train) a model and use it to make a prediction. This will serve as a building block for future labs!\n"
   ]
  },
  {
   "cell_type": "markdown",
   "metadata": {},
   "source": [
    "### Some Notebook Commands\n",
    "<p>In case you haven't dealt with a Jupyter Notebook before, here are some quick, useful commands that may be handy to get started.</p>\n",
    "<ul>\n",
    "    <li>Run a cell: CTRL + ENTER</li>\n",
    "    <li>Create a cell above a cell: a</li>\n",
    "    <li>Create a cell below a cell: b</li>\n",
    "    <li>Change a cell to Markdown: m</li>\n",
    "    \n",
    "    <li>Change a cell to code: y</li>\n",
    "</ul>\n",
    "\n",
    "If you are interested in more keyboard shortcuts, go to <b> Help -> Keyboard Shortcuts </b>"
   ]
  },
  {
   "cell_type": "markdown",
   "metadata": {},
   "source": [
    "# Looking at the Skulls dataset\n",
    "\n",
    "In this section, we will take a closer look at a data set, which is different from the digits data set from the first lab.\n",
    "\n",
    "Everything starts off with how the data is stored. We will be working with .csv files, or comma separated value files. As the name implies, each attribute (or column) in the data is separated by commas.\n",
    "\n",
    "Next, a little information about the dataset. We are using a dataset called skulls.csv, which contains the measurements made on Egyptian skulls from five epochs."
   ]
  },
  {
   "cell_type": "markdown",
   "metadata": {},
   "source": [
    "## The attributes of the data are as follows: \n",
    "\n",
    "<b>epoch</b> - The epoch corresponding to each skull. Assigned as a factor with levels c4000BC c3300BC, c1850BC, c200BC, and cAD150, where the years are only given approximately.\n",
    "\n",
    "<b>mb</b> - Maximal Breadth of the skull.\n",
    "\n",
    "<b>bh</b> - Basiregmatic Heights of the skull.\n",
    "\n",
    "<b>bl</b> - Basilveolar Length of the skull.\n",
    "\n",
    "<b>nh</b> - Nasal Heights of the skull.\n",
    "\n",
    "---"
   ]
  },
  {
   "cell_type": "markdown",
   "metadata": {},
   "source": [
    "### Importing Libraries\n",
    "Before we begin, we need to import some libraries, as they have useful functions that will be used later on.<br>\n",
    "If you look at the imports below, you will notice the return of **numpy**! Remember that numpy is homogeneous multidimensional array (ndarray).\n",
    "\n",
    "<b>Note</b>: The **KNeighborsClassifier** is a machine learning algorithm that we will discuss later on, so don't worry about understanding it right now."
   ]
  },
  {
   "cell_type": "code",
   "execution_count": 1,
   "metadata": {},
   "outputs": [],
   "source": [
    "import numpy as np\n",
    "import pandas\n",
    "from sklearn.neighbors import KNeighborsClassifier"
   ]
  },
  {
   "cell_type": "markdown",
   "metadata": {},
   "source": [
    "---\n",
    "We need the **pandas** library for a function to read .csv files\n",
    "<ul>\n",
    "    <li> <b>pandas.read_csv</b> - Reads data into DataFrame </li>\n",
    "    <li> The read_csv function takes in <i>2 parameters</i>: </li>\n",
    "    <ul>\n",
    "        <li> The .csv file as the first parameter </li>\n",
    "        <li> The delimiter as the second parameter </li>\n",
    "    </ul>\n",
    "</ul>"
   ]
  },
  {
   "cell_type": "markdown",
   "metadata": {},
   "source": [
    "-----------------------------\n",
    "<font color = \"green\"> Save the \"<b> skulls.csv </b>\" data file into a variable called <b> my_data </b> </font>"
   ]
  },
  {
   "cell_type": "code",
   "execution_count": 2,
   "metadata": {},
   "outputs": [],
   "source": [
    "my_data = pandas.read_csv(\"https://ibm.box.com/shared/static/u8orgfc65zmoo3i0gpt9l27un4o0cuvn.csv\", delimiter=\",\")"
   ]
  },
  {
   "cell_type": "markdown",
   "metadata": {},
   "source": [
    "-------\n",
    "<font color = \"green\"> Print out the data in <b> my_data </b> </font>"
   ]
  },
  {
   "cell_type": "code",
   "execution_count": 3,
   "metadata": {
    "scrolled": true
   },
   "outputs": [
    {
     "name": "stdout",
     "output_type": "stream",
     "text": [
      "     Unnamed: 0    epoch   mb   bh   bl  nh\n",
      "0             1  c4000BC  131  138   89  49\n",
      "1             2  c4000BC  125  131   92  48\n",
      "2             3  c4000BC  131  132   99  50\n",
      "3             4  c4000BC  119  132   96  44\n",
      "4             5  c4000BC  136  143  100  54\n",
      "5             6  c4000BC  138  137   89  56\n",
      "6             7  c4000BC  139  130  108  48\n",
      "7             8  c4000BC  125  136   93  48\n",
      "8             9  c4000BC  131  134  102  51\n",
      "9            10  c4000BC  134  134   99  51\n",
      "10           11  c4000BC  129  138   95  50\n",
      "11           12  c4000BC  134  121   95  53\n",
      "12           13  c4000BC  126  129  109  51\n",
      "13           14  c4000BC  132  136  100  50\n",
      "14           15  c4000BC  141  140  100  51\n",
      "15           16  c4000BC  131  134   97  54\n",
      "16           17  c4000BC  135  137  103  50\n",
      "17           18  c4000BC  132  133   93  53\n",
      "18           19  c4000BC  139  136   96  50\n",
      "19           20  c4000BC  132  131  101  49\n",
      "20           21  c4000BC  126  133  102  51\n",
      "21           22  c4000BC  135  135  103  47\n",
      "22           23  c4000BC  134  124   93  53\n",
      "23           24  c4000BC  128  134  103  50\n",
      "24           25  c4000BC  130  130  104  49\n",
      "25           26  c4000BC  138  135  100  55\n",
      "26           27  c4000BC  128  132   93  53\n",
      "27           28  c4000BC  127  129  106  48\n",
      "28           29  c4000BC  131  136  114  54\n",
      "29           30  c4000BC  124  138  101  46\n",
      "..          ...      ...  ...  ...  ...  ..\n",
      "120         121   cAD150  137  123   91  50\n",
      "121         122   cAD150  136  131   95  49\n",
      "122         123   cAD150  128  126   91  57\n",
      "123         124   cAD150  130  134   92  52\n",
      "124         125   cAD150  138  127   86  47\n",
      "125         126   cAD150  126  138  101  52\n",
      "126         127   cAD150  136  138   97  58\n",
      "127         128   cAD150  126  126   92  45\n",
      "128         129   cAD150  132  132   99  55\n",
      "129         130   cAD150  139  135   92  54\n",
      "130         131   cAD150  143  120   95  51\n",
      "131         132   cAD150  141  136  101  54\n",
      "132         133   cAD150  135  135   95  56\n",
      "133         134   cAD150  137  134   93  53\n",
      "134         135   cAD150  142  135   96  52\n",
      "135         136   cAD150  139  134   95  47\n",
      "136         137   cAD150  138  125   99  51\n",
      "137         138   cAD150  137  135   96  54\n",
      "138         139   cAD150  133  125   92  50\n",
      "139         140   cAD150  145  129   89  47\n",
      "140         141   cAD150  138  136   92  46\n",
      "141         142   cAD150  131  129   97  44\n",
      "142         143   cAD150  143  126   88  54\n",
      "143         144   cAD150  134  124   91  55\n",
      "144         145   cAD150  132  127   97  52\n",
      "145         146   cAD150  137  125   85  57\n",
      "146         147   cAD150  129  128   81  52\n",
      "147         148   cAD150  140  135  103  48\n",
      "148         149   cAD150  147  129   87  48\n",
      "149         150   cAD150  136  133   97  51\n",
      "\n",
      "[150 rows x 6 columns]\n"
     ]
    }
   ],
   "source": [
    "print(my_data)"
   ]
  },
  {
   "cell_type": "markdown",
   "metadata": {},
   "source": [
    "------------\n",
    "<font color = \"green\"> Check the type of <b> my_data </b> </font>"
   ]
  },
  {
   "cell_type": "code",
   "execution_count": 4,
   "metadata": {},
   "outputs": [
    {
     "name": "stdout",
     "output_type": "stream",
     "text": [
      "<class 'pandas.core.frame.DataFrame'>\n"
     ]
    }
   ],
   "source": [
    "print(type(my_data))"
   ]
  },
  {
   "cell_type": "markdown",
   "metadata": {},
   "source": [
    "-----------\n",
    "There are various functions that the **pandas** library has to look at the data\n",
    "<ul>\n",
    "    <li> <font color = \"red\"> [DataFrame Data].columns </font> - Displays the Header of the Data </li>\n",
    "    <ul> \n",
    "        <li> Type: pandas.indexes.base.Index </li>\n",
    "    </ul>\n",
    "</ul>\n",
    "\n",
    "<ul>\n",
    "    <li> <font color = \"red\"> [DataFrame Data].values </font> (or <font color = \"red\"> [DataFrame Data].as_matrix() </font>) - Displays the values of the data (without headers) </li>\n",
    "    <ul>\n",
    "        <li> Type: numpy.ndarray </li>\n",
    "    </ul>\n",
    "</ul>\n",
    "\n",
    "<ul>\n",
    "    <li> <font color = \"red\"> [DataFrame Data].shape </font> - Displays the dimensions of the data (rows x columns) </li>\n",
    "    <ul>\n",
    "        <li> Type: tuple </li>\n",
    "    </ul>\n",
    "</ul>"
   ]
  },
  {
   "cell_type": "markdown",
   "metadata": {},
   "source": [
    "----------\n",
    "<font color = \"green\"> Using the <b> my_data </b> variable containing the DataFrame data, retrieve the <b> header </b> data, data <b> values </b>, and <b> shape </b> of the data. </font> "
   ]
  },
  {
   "cell_type": "markdown",
   "metadata": {},
   "source": [
    "\n",
    "Column"
   ]
  },
  {
   "cell_type": "code",
   "execution_count": 5,
   "metadata": {},
   "outputs": [
    {
     "data": {
      "text/plain": [
       "Index(['Unnamed: 0', 'epoch', 'mb', 'bh', 'bl', 'nh'], dtype='object')"
      ]
     },
     "execution_count": 5,
     "metadata": {},
     "output_type": "execute_result"
    }
   ],
   "source": [
    "my_data.columns"
   ]
  },
  {
   "cell_type": "markdown",
   "metadata": {},
   "source": [
    "-----------\n",
    "Values"
   ]
  },
  {
   "cell_type": "code",
   "execution_count": 6,
   "metadata": {},
   "outputs": [
    {
     "data": {
      "text/plain": [
       "<bound method NDFrame.head of      Unnamed: 0    epoch   mb   bh   bl  nh\n",
       "0             1  c4000BC  131  138   89  49\n",
       "1             2  c4000BC  125  131   92  48\n",
       "2             3  c4000BC  131  132   99  50\n",
       "3             4  c4000BC  119  132   96  44\n",
       "4             5  c4000BC  136  143  100  54\n",
       "5             6  c4000BC  138  137   89  56\n",
       "6             7  c4000BC  139  130  108  48\n",
       "7             8  c4000BC  125  136   93  48\n",
       "8             9  c4000BC  131  134  102  51\n",
       "9            10  c4000BC  134  134   99  51\n",
       "10           11  c4000BC  129  138   95  50\n",
       "11           12  c4000BC  134  121   95  53\n",
       "12           13  c4000BC  126  129  109  51\n",
       "13           14  c4000BC  132  136  100  50\n",
       "14           15  c4000BC  141  140  100  51\n",
       "15           16  c4000BC  131  134   97  54\n",
       "16           17  c4000BC  135  137  103  50\n",
       "17           18  c4000BC  132  133   93  53\n",
       "18           19  c4000BC  139  136   96  50\n",
       "19           20  c4000BC  132  131  101  49\n",
       "20           21  c4000BC  126  133  102  51\n",
       "21           22  c4000BC  135  135  103  47\n",
       "22           23  c4000BC  134  124   93  53\n",
       "23           24  c4000BC  128  134  103  50\n",
       "24           25  c4000BC  130  130  104  49\n",
       "25           26  c4000BC  138  135  100  55\n",
       "26           27  c4000BC  128  132   93  53\n",
       "27           28  c4000BC  127  129  106  48\n",
       "28           29  c4000BC  131  136  114  54\n",
       "29           30  c4000BC  124  138  101  46\n",
       "..          ...      ...  ...  ...  ...  ..\n",
       "120         121   cAD150  137  123   91  50\n",
       "121         122   cAD150  136  131   95  49\n",
       "122         123   cAD150  128  126   91  57\n",
       "123         124   cAD150  130  134   92  52\n",
       "124         125   cAD150  138  127   86  47\n",
       "125         126   cAD150  126  138  101  52\n",
       "126         127   cAD150  136  138   97  58\n",
       "127         128   cAD150  126  126   92  45\n",
       "128         129   cAD150  132  132   99  55\n",
       "129         130   cAD150  139  135   92  54\n",
       "130         131   cAD150  143  120   95  51\n",
       "131         132   cAD150  141  136  101  54\n",
       "132         133   cAD150  135  135   95  56\n",
       "133         134   cAD150  137  134   93  53\n",
       "134         135   cAD150  142  135   96  52\n",
       "135         136   cAD150  139  134   95  47\n",
       "136         137   cAD150  138  125   99  51\n",
       "137         138   cAD150  137  135   96  54\n",
       "138         139   cAD150  133  125   92  50\n",
       "139         140   cAD150  145  129   89  47\n",
       "140         141   cAD150  138  136   92  46\n",
       "141         142   cAD150  131  129   97  44\n",
       "142         143   cAD150  143  126   88  54\n",
       "143         144   cAD150  134  124   91  55\n",
       "144         145   cAD150  132  127   97  52\n",
       "145         146   cAD150  137  125   85  57\n",
       "146         147   cAD150  129  128   81  52\n",
       "147         148   cAD150  140  135  103  48\n",
       "148         149   cAD150  147  129   87  48\n",
       "149         150   cAD150  136  133   97  51\n",
       "\n",
       "[150 rows x 6 columns]>"
      ]
     },
     "execution_count": 6,
     "metadata": {},
     "output_type": "execute_result"
    }
   ],
   "source": [
    "my_data.head"
   ]
  },
  {
   "cell_type": "markdown",
   "metadata": {},
   "source": [
    "-----------\n",
    "Shape"
   ]
  },
  {
   "cell_type": "code",
   "execution_count": 7,
   "metadata": {},
   "outputs": [
    {
     "data": {
      "text/plain": [
       "(150, 6)"
      ]
     },
     "execution_count": 7,
     "metadata": {},
     "output_type": "execute_result"
    }
   ],
   "source": [
    "my_data.shape"
   ]
  },
  {
   "cell_type": "markdown",
   "metadata": {},
   "source": [
    "When we train a model, the model requires two inputs, X and y\n",
    "<ul>\n",
    "    <li> X: Feature Matrix, or array that contains the data. </li>\n",
    "    <li> y: Response Vector, or 1-D array that contains the classification categories </li>\n",
    "</ul>\n",
    "\n",
    "<b> Note: We will not be able to use the built-in scikit-learn functions that was used with the digits dataset, since the data is not of type bunches. </b>"
   ]
  },
  {
   "cell_type": "markdown",
   "metadata": {},
   "source": [
    "------------\n",
    "There are some problems with the data in my_data:\n",
    "<ul>\n",
    "    <li> There is a header on the data (Unnamed: 0    epoch   mb   bh   bl  nh) </li>\n",
    "    <li> The data needs to be in numpy.ndarray format in order to use it in the machine learning model </li>\n",
    "    <li> There is non-numeric data within the dataset </li>\n",
    "    <li> There are row numbers associated with each row that affect the model </li>\n",
    "</ul>\n",
    "\n",
    "To resolve these problems, I have created a function that fixes these for us:\n",
    "<b> removeColumns(pandasArray, column) </b>\n",
    "\n",
    "This function produces one output and requires two inputs.\n",
    "<ul>\n",
    "    <li> 1st Input: A pandas array. The pandas array we have been using is my_data </li>\n",
    "    <li> 2nd Input: Any number of integer values (order doesn't matter) that represent the columns that we want to remove. (Look at the data again and find which column contains the non-numeric values). We also want to remove the first column because that only contains the row number, which is irrelevant to our analysis.</li>\n",
    "    <ul>\n",
    "        <li> Note: Remember that Python is zero-indexed, therefore the first column would be 0. </li>\n",
    "    </ul>\n",
    "</ul>\n"
   ]
  },
  {
   "cell_type": "code",
   "execution_count": 8,
   "metadata": {},
   "outputs": [],
   "source": [
    "# Remove the column containing the target name since it doesn't contain numeric values.\n",
    "# Also remove the column that contains the row number\n",
    "# axis=1 means we are removing columns instead of rows.\n",
    "# Function takes in a pandas array and column numbers and returns a numpy array without\n",
    "# the stated columns\n",
    "def removeColumns(pandasArray, *column):\n",
    "    return pandasArray.drop(pandasArray.columns[[column]], axis=1).values"
   ]
  },
  {
   "cell_type": "markdown",
   "metadata": {},
   "source": [
    "---------\n",
    "<font color = \"green\"> Using the function, store the values from the DataFrame data into a variable called new_data. </font>"
   ]
  },
  {
   "cell_type": "code",
   "execution_count": 9,
   "metadata": {},
   "outputs": [],
   "source": [
    "new_data = removeColumns(my_data, 0, 1)"
   ]
  },
  {
   "cell_type": "markdown",
   "metadata": {},
   "source": [
    "<font color = \"green\"> Print out the data in <b> new_data </b> </font>"
   ]
  },
  {
   "cell_type": "code",
   "execution_count": 10,
   "metadata": {},
   "outputs": [
    {
     "name": "stdout",
     "output_type": "stream",
     "text": [
      "[[131 138  89  49]\n",
      " [125 131  92  48]\n",
      " [131 132  99  50]\n",
      " [119 132  96  44]\n",
      " [136 143 100  54]\n",
      " [138 137  89  56]\n",
      " [139 130 108  48]\n",
      " [125 136  93  48]\n",
      " [131 134 102  51]\n",
      " [134 134  99  51]\n",
      " [129 138  95  50]\n",
      " [134 121  95  53]\n",
      " [126 129 109  51]\n",
      " [132 136 100  50]\n",
      " [141 140 100  51]\n",
      " [131 134  97  54]\n",
      " [135 137 103  50]\n",
      " [132 133  93  53]\n",
      " [139 136  96  50]\n",
      " [132 131 101  49]\n",
      " [126 133 102  51]\n",
      " [135 135 103  47]\n",
      " [134 124  93  53]\n",
      " [128 134 103  50]\n",
      " [130 130 104  49]\n",
      " [138 135 100  55]\n",
      " [128 132  93  53]\n",
      " [127 129 106  48]\n",
      " [131 136 114  54]\n",
      " [124 138 101  46]\n",
      " [124 138 101  48]\n",
      " [133 134  97  48]\n",
      " [138 134  98  45]\n",
      " [148 129 104  51]\n",
      " [126 124  95  45]\n",
      " [135 136  98  52]\n",
      " [132 145 100  54]\n",
      " [133 130 102  48]\n",
      " [131 134  96  50]\n",
      " [133 125  94  46]\n",
      " [133 136 103  53]\n",
      " [131 139  98  51]\n",
      " [131 136  99  56]\n",
      " [138 134  98  49]\n",
      " [130 136 104  53]\n",
      " [131 128  98  45]\n",
      " [138 129 107  53]\n",
      " [123 131 101  51]\n",
      " [130 129 105  47]\n",
      " [134 130  93  54]\n",
      " [137 136 106  49]\n",
      " [126 131 100  48]\n",
      " [135 136  97  52]\n",
      " [129 126  91  50]\n",
      " [134 139 101  49]\n",
      " [131 134  90  53]\n",
      " [132 130 104  50]\n",
      " [130 132  93  52]\n",
      " [135 132  98  54]\n",
      " [130 128 101  51]\n",
      " [137 141  96  52]\n",
      " [129 133  93  47]\n",
      " [132 138  87  48]\n",
      " [130 134 106  50]\n",
      " [134 134  96  45]\n",
      " [140 133  98  50]\n",
      " [138 138  95  47]\n",
      " [136 145  99  55]\n",
      " [136 131  92  46]\n",
      " [126 136  95  56]\n",
      " [137 129 100  53]\n",
      " [137 139  97  50]\n",
      " [136 126 101  50]\n",
      " [137 133  90  49]\n",
      " [129 142 104  47]\n",
      " [135 138 102  55]\n",
      " [129 135  92  50]\n",
      " [134 125  90  60]\n",
      " [138 134  96  51]\n",
      " [136 135  94  53]\n",
      " [132 130  91  52]\n",
      " [133 131 100  50]\n",
      " [138 137  94  51]\n",
      " [130 127  99  45]\n",
      " [136 133  91  49]\n",
      " [134 123  95  52]\n",
      " [136 137 101  54]\n",
      " [133 131  96  49]\n",
      " [138 133 100  55]\n",
      " [138 133  91  46]\n",
      " [137 134 107  54]\n",
      " [141 128  95  53]\n",
      " [141 130  87  49]\n",
      " [135 131  99  51]\n",
      " [133 120  91  46]\n",
      " [131 135  90  50]\n",
      " [140 137  94  60]\n",
      " [139 130  90  48]\n",
      " [140 134  90  51]\n",
      " [138 140 100  52]\n",
      " [132 133  90  53]\n",
      " [134 134  97  54]\n",
      " [135 135  99  50]\n",
      " [133 136  95  52]\n",
      " [136 130  99  55]\n",
      " [134 137  93  52]\n",
      " [131 141  99  55]\n",
      " [129 135  95  47]\n",
      " [136 128  93  54]\n",
      " [131 125  88  48]\n",
      " [139 130  94  53]\n",
      " [144 124  86  50]\n",
      " [141 131  97  53]\n",
      " [130 131  98  53]\n",
      " [133 128  92  51]\n",
      " [138 126  97  54]\n",
      " [131 142  95  53]\n",
      " [136 138  94  55]\n",
      " [132 136  92  52]\n",
      " [135 130 100  51]\n",
      " [137 123  91  50]\n",
      " [136 131  95  49]\n",
      " [128 126  91  57]\n",
      " [130 134  92  52]\n",
      " [138 127  86  47]\n",
      " [126 138 101  52]\n",
      " [136 138  97  58]\n",
      " [126 126  92  45]\n",
      " [132 132  99  55]\n",
      " [139 135  92  54]\n",
      " [143 120  95  51]\n",
      " [141 136 101  54]\n",
      " [135 135  95  56]\n",
      " [137 134  93  53]\n",
      " [142 135  96  52]\n",
      " [139 134  95  47]\n",
      " [138 125  99  51]\n",
      " [137 135  96  54]\n",
      " [133 125  92  50]\n",
      " [145 129  89  47]\n",
      " [138 136  92  46]\n",
      " [131 129  97  44]\n",
      " [143 126  88  54]\n",
      " [134 124  91  55]\n",
      " [132 127  97  52]\n",
      " [137 125  85  57]\n",
      " [129 128  81  52]\n",
      " [140 135 103  48]\n",
      " [147 129  87  48]\n",
      " [136 133  97  51]]\n"
     ]
    }
   ],
   "source": [
    "print(new_data)"
   ]
  },
  {
   "cell_type": "markdown",
   "metadata": {},
   "source": [
    "-------\n",
    "Now, we have one half of the required data to fit a model, which is X or new_data\n",
    "\n",
    "Next, we need to get the response vector y. Since we cannot use .target and .target_names, I have created a function that will do this for us.\n",
    "\n",
    "<b> targetAndtargetNames(numpyArray, targetColumnIndex) </b>\n",
    "\n",
    "This function produces two outputs, and requires two inputs.\n",
    "<ul>\n",
    "    <li> <font size = 3.5><b><i>1st Input</i></b></font>: A numpy array. The numpy array you will use is my_data.values (or my_data.as_matrix())</li>\n",
    "    <ul>\n",
    "        <li> Note: DO NOT USE <b> new_data </b> here. We need the original .csv data file without the headers </li>\n",
    "    </ul>\n",
    "</ul>\n",
    "<ul>\n",
    "    <li> <font size = 3.5><b><i>2nd Input</i></b></font>: An integer value that represents the target column . (Look at the data again and find which column contains the non-numeric values. This is the target column)</li>\n",
    "    <ul>\n",
    "        <li> Note: Remember that Python is zero-indexed, therefore the first column would be 0. </li>\n",
    "   </ul>\n",
    "</ul>\n",
    "\n",
    "<ul>\n",
    "    <li> <font size = 3.5><b><i>1st Output</i></b></font>: The response vector (target) </li>\n",
    "    <li> <font size = 3.5><b><i>2nd Output</i></b></font>: The target names (target_names) </li>\n",
    "</ul>\n",
    "\n"
   ]
  },
  {
   "cell_type": "code",
   "execution_count": 11,
   "metadata": {},
   "outputs": [],
   "source": [
    "def targetAndtargetNames(numpyArray, targetColumnIndex):\n",
    "    target_dict = dict()\n",
    "    target = list()\n",
    "    target_names = list()\n",
    "    count = -1\n",
    "    for i in range(len(my_data.values)):\n",
    "        if my_data.values[i][targetColumnIndex] not in target_dict:\n",
    "            count += 1\n",
    "            target_dict[my_data.values[i][targetColumnIndex]] = count\n",
    "        target.append(target_dict[my_data.values[i][targetColumnIndex]])\n",
    "    # Since a dictionary is not ordered, we need to order it and output it to a list so the\n",
    "    # target names will match the target.\n",
    "    for targetName in sorted(target_dict, key=target_dict.get):\n",
    "        target_names.append(targetName)\n",
    "    return np.asarray(target), target_names"
   ]
  },
  {
   "cell_type": "markdown",
   "metadata": {},
   "source": [
    "<font color = \"green\"> Using the targetAndtargetNames function, create two variables called <b>target</b> and <b>target_names</b> </font>"
   ]
  },
  {
   "cell_type": "code",
   "execution_count": 12,
   "metadata": {},
   "outputs": [],
   "source": [
    "target, target_names = targetAndtargetNames(my_data, 1)"
   ]
  },
  {
   "cell_type": "markdown",
   "metadata": {},
   "source": [
    "<font color = \"green\"> Print out the <b>target</b> and <b>target_names</b> variables you created. </font>"
   ]
  },
  {
   "cell_type": "code",
   "execution_count": 13,
   "metadata": {},
   "outputs": [
    {
     "name": "stdout",
     "output_type": "stream",
     "text": [
      "[0 0 0 0 0 0 0 0 0 0 0 0 0 0 0 0 0 0 0 0 0 0 0 0 0 0 0 0 0 0 1 1 1 1 1 1 1\n",
      " 1 1 1 1 1 1 1 1 1 1 1 1 1 1 1 1 1 1 1 1 1 1 1 2 2 2 2 2 2 2 2 2 2 2 2 2 2\n",
      " 2 2 2 2 2 2 2 2 2 2 2 2 2 2 2 2 3 3 3 3 3 3 3 3 3 3 3 3 3 3 3 3 3 3 3 3 3\n",
      " 3 3 3 3 3 3 3 3 3 4 4 4 4 4 4 4 4 4 4 4 4 4 4 4 4 4 4 4 4 4 4 4 4 4 4 4 4\n",
      " 4 4] ['c4000BC', 'c3300BC', 'c1850BC', 'c200BC', 'cAD150']\n"
     ]
    }
   ],
   "source": [
    "print(target, target_names)"
   ]
  },
  {
   "cell_type": "markdown",
   "metadata": {},
   "source": [
    "---------\n",
    "Now that we have the two required variables to fit the data, a sneak peak at how to fit data will be shown in the cell below.\n",
    "\n",
    "The data will be fit into a K-Nearest Neighbors model, which will be discussed more in a future lab.<br>\n",
    "<b>Note</b>: The predict function will show a warning when run. Please ignore the warning."
   ]
  },
  {
   "cell_type": "code",
   "execution_count": 14,
   "metadata": {},
   "outputs": [
    {
     "name": "stdout",
     "output_type": "stream",
     "text": [
      "Prediction: \n",
      "0\n",
      "Actual:\n",
      "0\n"
     ]
    },
    {
     "data": {
      "text/plain": [
       "(None, None)"
      ]
     },
     "execution_count": 14,
     "metadata": {},
     "output_type": "execute_result"
    }
   ],
   "source": [
    "X = new_data\n",
    "y = target\n",
    "neigh = KNeighborsClassifier(n_neighbors=1)\n",
    "neigh.fit(X,y)\n",
    "print('Prediction: '), print(neigh.predict(new_data[10].reshape(1, -1))[0])\n",
    "print('Actual:'), print(y[10])"
   ]
  }
 ],
 "metadata": {
  "kernelspec": {
   "display_name": "Python 2",
   "language": "python",
   "name": "python2"
  },
  "language_info": {
   "codemirror_mode": {
    "name": "ipython",
    "version": 3
   },
   "file_extension": ".py",
   "mimetype": "text/x-python",
   "name": "python",
   "nbconvert_exporter": "python",
   "pygments_lexer": "ipython3",
   "version": "3.6.1"
  },
  "widgets": {
   "state": {},
   "version": "1.1.2"
  }
 },
 "nbformat": 4,
 "nbformat_minor": 1
}
